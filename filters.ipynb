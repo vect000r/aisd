{
  "nbformat": 4,
  "nbformat_minor": 0,
  "metadata": {
    "colab": {
      "provenance": [],
      "include_colab_link": true
    },
    "kernelspec": {
      "name": "python3",
      "display_name": "Python 3"
    },
    "language_info": {
      "name": "python"
    }
  },
  "cells": [
    {
      "cell_type": "markdown",
      "metadata": {
        "id": "view-in-github",
        "colab_type": "text"
      },
      "source": [
        "<a href=\"https://colab.research.google.com/github/vect000r/aisd/blob/main/filters.ipynb\" target=\"_parent\"><img src=\"https://colab.research.google.com/assets/colab-badge.svg\" alt=\"Open In Colab\"/></a>"
      ]
    },
    {
      "cell_type": "markdown",
      "metadata": {
        "id": "j7qQsqJDMcMB"
      },
      "source": [
        "## Filtering\n",
        "\n",
        "Materials are based on [Neural Signal Processing (UCSD COGS118C)](https://github.com/rdgao/COGS118C) by Richard Gao (see the [LICENSE](https://github.com/rdgao/COGS118C/blob/master/LICENSE))."
      ]
    },
    {
      "cell_type": "code",
      "metadata": {
        "id": "OYfnWbmyImvY"
      },
      "source": [
        "# make the imports\n",
        "import numpy as np\n",
        "from scipy import io, signal\n",
        "import bokeh, bokeh.io, bokeh.plotting # for fancy plots\n",
        "bokeh.io.output_notebook()"
      ],
      "execution_count": null,
      "outputs": []
    },
    {
      "cell_type": "markdown",
      "metadata": {
        "id": "P6kqko_YrUdk"
      },
      "source": [
        "### Load some real brain signals\n",
        "We'll be working with the LFP data recorded in the rat hippocampus. This dataset comes from an openly accessible neuroscience database. For more information on this particular dataset, see [here](https://crcns.org/data-sets/hc/hc-2/about-hc-2)."
      ]
    },
    {
      "cell_type": "code",
      "metadata": {
        "id": "IXpioGJ6rtId"
      },
      "source": [
        "# Download the dataset (to Virtual Machine local filesystem)\n",
        "# note the leading !. This is a signal to execute the line as a shell command\n",
        "!wget https://krzysztof.kutt.pl/didactics/psaw/LFP.mat"
      ],
      "execution_count": null,
      "outputs": []
    },
    {
      "cell_type": "code",
      "metadata": {
        "id": "rbQkClk_rvXv"
      },
      "source": [
        "data = io.loadmat('LFP.mat', squeeze_me=True)\n",
        "print(data.keys())"
      ],
      "execution_count": null,
      "outputs": []
    },
    {
      "cell_type": "code",
      "metadata": {
        "id": "1PtqcAPprVmv"
      },
      "source": [
        "# unpack the variables\n",
        "fs = data['fs'] # sampling rate\n",
        "print(f'Sampling rate = {fs} Hz')\n",
        "\n",
        "lfp = data['lfp'][0,:]/1000 # this file contains two channels, we'll only work with the first one\n",
        "lfp_short = lfp[:int(120*fs)] # make a variable that has the first two minutes of the LFP\n",
        "t_short = np.arange(0, len(lfp_short)/fs, 1/fs) # create the corresponding time vector\n",
        "\n",
        "bf = bokeh.plotting.figure(\n",
        "    x_axis_label='Time (s)',\n",
        "    y_axis_label='Voltage',\n",
        "    width=900,\n",
        "    height=250)\n",
        "bf.line(t_short, lfp_short)\n",
        "bf.x_range = bokeh.models.Range1d(0, 10)\n",
        "\n",
        "bokeh.plotting.show(bf)"
      ],
      "execution_count": null,
      "outputs": []
    },
    {
      "cell_type": "markdown",
      "metadata": {
        "id": "5UJhQ8DtpSK2"
      },
      "source": [
        "### Filtering\n",
        "There are 4 types of filters: **lowpass**, **highpass**, **bandpass**, and **bandstop**. They refer to the frequency response of the filter, e.g., lowpass means to allow low frequencies through (from 0Hz to the cutoff) and filter out high frequencies, the opposite for highpass. Bandpass allows through a narrow band frequency and filters out the rest, while bandstop does the opposite, which is commonly used for filtering out a specific frequency of noise (such as 50 Hz line noise in Poland). Filter design is an art that will take many such labs to cover extensively, so we will just introduce the idea here and give you the tools to explore that at a later stage.\n",
        "\n",
        "#### Finite Impulse Response\n",
        "The filter response can be examined in both time and frequency domain. If we plot the coefficients of an FIR filter in time, that's quite literally its impulse response function (IRF), i.e., if you tried to filter a delta with this function, it will output itself. FIR stands for finite impulse response, which means the impulse response function has finite time. Infinite impulse response (IIR) filters, on the other hand, have feedback, and thus will continue out to infinity even for a single delta input. Here, we will only use FIR filters.\n",
        "\n",
        "#### `signal.firwin()`\n",
        "A quick tutorial on `signal.firwin()`: this function designs the FIR filter based on your frequency requirements, and return the filter coefficients. The 4 critical parameters are `numtaps`, `fs`, `cutoff`, and `pass_zero`.\n",
        "\n",
        "- `numtaps` is the filter \"order\", basically, how many points are in the filter. The longer the filter is, the better frequency resolution you will have, but worse temporal resolution.\n",
        "- `fs` is the sampling rate of your signal\n",
        "- `cutoff` defines the frequency to pass/block\n",
        "- `pass_zero` defines whether 0Hz is passed or blocked; it can also be a string argument for the desired filter type: `'bandpass', 'lowpass', 'highpass', 'bandstop'`\n",
        "\n",
        "`cutoff` and `pass_zero`, in conjunction, defines the filter type. If your cutoff is at 20Hz and define `pass_zero=True`, then `firwin()` interprets that to be a lowpass filter. If `pass_zero=False`, then it's a highpass filter. Same idea applies to bandpass and bandstop, except `cutoff` is now required to be a tuple.\n",
        "\n",
        "#### `np.convolve()`\n",
        "Finally, to apply the filter, we simply convolve the signal with the filter, using `np.convolve()`. Remember, convolution in time domain is multiplication in frequency domain.\n",
        "\n",
        "Below, there is a demonstration of an example lowpass filter, with its IRF plotted in time and frequency."
      ]
    },
    {
      "cell_type": "code",
      "metadata": {
        "id": "7pJ8RMsmeZL4"
      },
      "source": [
        "cutoff = (20, 40) #Hz\n",
        "\n",
        "# we typically want a filter order to be at least as long as 3 periods (cycles) of\n",
        "# the slowest frequency in the cutoff.\n",
        "# so if cutoff is 20Hz, we want 3*0.05s = 0.15s long, which is 0.15*fs points\n",
        "# the larger this number is, the better frequency resolution you will have\n",
        "filt_order = int(3*fs/cutoff[0])\n",
        "filt_coefs = signal.firwin(filt_order, cutoff[0], fs=fs, pass_zero='lowpass')\n",
        "\n",
        "# compute the magnitude and phase response of the filter\n",
        "freq_resp = np.fft.fft(filt_coefs, n=int(fs))\n",
        "mag_resp = abs(freq_resp)**2\n",
        "ph_resp = np.angle(freq_resp)\n",
        "freqs = np.fft.fftfreq(int(fs),1/fs)\n",
        "\n",
        "\n",
        "##### Plot 1: Impulse Response #####\n",
        "\n",
        "t_filt = np.arange(0,len(filt_coefs))/fs\n",
        "\n",
        "bf1 = bokeh.plotting.figure(\n",
        "    title='Impulse Response',\n",
        "    x_axis_label='Time (s)',\n",
        "    y_axis_label='Amplitude',\n",
        "    width=300,\n",
        "    height=250)\n",
        "bf1.line(t_filt, filt_coefs)\n",
        "\n",
        "##### Plot 2: Magnitude Response #####\n",
        "\n",
        "bf2 = bokeh.plotting.figure(\n",
        "    title='Magnitude Response',\n",
        "    x_axis_label='Frequency (Hz)',\n",
        "    y_axis_label='Magnitude',\n",
        "    width=300,\n",
        "    height=250)\n",
        "bf2.line(freqs, mag_resp)\n",
        "bf2.x_range = bokeh.models.Range1d(0, 100)\n",
        "\n",
        "##### Plot 3: Phase Response #####\n",
        "\n",
        "bf3 = bokeh.plotting.figure(\n",
        "    title='Phase Response',\n",
        "    x_axis_label='Frequency (Hz)',\n",
        "    y_axis_label='Phase (rad)',\n",
        "    width=300,\n",
        "    height=250)\n",
        "bf3.line(freqs, ph_resp)\n",
        "bf3.x_range = bokeh.models.Range1d(0, 100)\n",
        "\n",
        "##### Plot 4: Original and Filtered signals #####\n",
        "\n",
        "lfp_filt = np.convolve(lfp_short, filt_coefs, mode='same')\n",
        "\n",
        "bf4 = bokeh.plotting.figure(\n",
        "    title='Low-Pass 20 Hz',\n",
        "    x_axis_label='Time (s)',\n",
        "    y_axis_label='Voltage (V)',\n",
        "    width=900,\n",
        "    height=250)\n",
        "bf4.line(t_short, lfp_short,\n",
        "         legend_label='Original', color='blue')\n",
        "bf4.line(t_short, lfp_filt,\n",
        "         legend_label='Filtered', color='red')\n",
        "bf4.x_range = bokeh.models.Range1d(0, 1)\n",
        "\n",
        "\n",
        "# show all plots\n",
        "\n",
        "first_line = bokeh.layouts.row(bf1, bf2, bf3)\n",
        "both_lines = bokeh.layouts.column(first_line, bf4)\n",
        "bokeh.plotting.show(both_lines)"
      ],
      "execution_count": null,
      "outputs": []
    },
    {
      "cell_type": "markdown",
      "metadata": {
        "id": "2QS6AX3OsNoP"
      },
      "source": [
        "### Experiments with filters\n",
        "\n",
        "**Task 1:** Following the template from above, do the following:\n",
        "- construct filter coefficients using `signal.firwin()`\n",
        "- plot the IRF in time and frequency domain (both magnitude and phase)\n",
        "- filter the LFP signal using `np.convolve`, and plot both signals in time (zoom into first 5 seconds)\n",
        "- plot the power spectrum of both the original and filtered signal.\n",
        "\n",
        "There are three filters to be constructed:\n",
        "1. a band-pass filter, with cut-off between 4-12Hz.\n",
        "1. a band-stop filter, with cut-off between 4-12Hz.\n",
        "1. a high-pass filter, with a cut-off at 1Hz.\n",
        "\n",
        "Finally, answer the question:\n",
        "4. Which of the above is most suitable for isolating (keeping) the dominant frequency in the LFP."
      ]
    },
    {
      "cell_type": "code",
      "metadata": {
        "id": "Nly-59R6Bz-Y"
      },
      "source": [
        "# _FILL_IN_YOUR_CODE_HERE"
      ],
      "execution_count": null,
      "outputs": []
    },
    {
      "cell_type": "markdown",
      "metadata": {
        "id": "wnYk5OdWtA_I"
      },
      "source": [
        "**Response (for Task 1, point 4):** `#_FILL_IN_YOUR_RESPONSE_HERE`\n"
      ]
    },
    {
      "cell_type": "code",
      "source": [],
      "metadata": {
        "id": "aFhprfPvt7p5"
      },
      "execution_count": null,
      "outputs": []
    }
  ]
}